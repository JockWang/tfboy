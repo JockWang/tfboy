{
  "nbformat": 4,
  "nbformat_minor": 0,
  "metadata": {
    "colab": {
      "name": "Tensorflow2基础：张量、自动求导与优化器",
      "provenance": [],
      "collapsed_sections": [],
      "authorship_tag": "ABX9TyNqkj7oghbet8Srd46b9RB9",
      "include_colab_link": true
    },
    "kernelspec": {
      "name": "python3",
      "display_name": "Python 3"
    },
    "accelerator": "GPU"
  },
  "cells": [
    {
      "cell_type": "markdown",
      "metadata": {
        "id": "view-in-github",
        "colab_type": "text"
      },
      "source": [
        "<a href=\"https://colab.research.google.com/github/JockWang/tfboy/blob/master/Tensorflow2%E5%9F%BA%E7%A1%80%EF%BC%9A%E5%BC%A0%E9%87%8F%E3%80%81%E8%87%AA%E5%8A%A8%E6%B1%82%E5%AF%BC%E4%B8%8E%E4%BC%98%E5%8C%96%E5%99%A8.ipynb\" target=\"_parent\"><img src=\"https://colab.research.google.com/assets/colab-badge.svg\" alt=\"Open In Colab\"/></a>"
      ]
    },
    {
      "cell_type": "code",
      "metadata": {
        "id": "ngu0QrdSdzLU",
        "colab_type": "code",
        "colab": {
          "base_uri": "https://localhost:8080/",
          "height": 35
        },
        "outputId": "a5239519-02b3-4747-d50d-9bb96d6cfe56"
      },
      "source": [
        "import tensorflow as tf\n",
        "tf.__version__"
      ],
      "execution_count": 1,
      "outputs": [
        {
          "output_type": "execute_result",
          "data": {
            "text/plain": [
              "'2.0.0'"
            ]
          },
          "metadata": {
            "tags": []
          },
          "execution_count": 1
        }
      ]
    },
    {
      "cell_type": "markdown",
      "metadata": {
        "id": "_RxIx1BwgmLk",
        "colab_type": "text"
      },
      "source": [
        "> 在 TensorFlow 1.X 版本中， 必须在导入 TensorFlow 库后调用tf.enable_eager_execution()函数以启用 Eager Execution 模式。在 TensorFlow 2.0 版本中，Eager Execution 模式为默认模式，无需额外调用tf.enable_eager_execution()函数（不过若要关闭 Eager Execution，则需调用tf.compat.v1.disable_eager_execution()函数）。"
      ]
    },
    {
      "cell_type": "markdown",
      "metadata": {
        "id": "4wozpS6whsOC",
        "colab_type": "text"
      },
      "source": [
        "#### 张量"
      ]
    },
    {
      "cell_type": "code",
      "metadata": {
        "id": "Ap_EuJxlgDsc",
        "colab_type": "code",
        "colab": {}
      },
      "source": [
        "# 定义随机数\n",
        "random_float = tf.random.uniform(shape=())\n",
        "# 定义一个有两个元素的零向量\n",
        "zero_vector = tf.zeros(shape=(2))\n",
        "# 定义两个2×2的常量矩阵\n",
        "A = tf.constant([[1., 2.],[3., 4.]])\n",
        "B = tf.constant([[5., 6.],[7., 8.]])"
      ],
      "execution_count": 0,
      "outputs": []
    },
    {
      "cell_type": "code",
      "metadata": {
        "id": "-9ie3E-AgMpB",
        "colab_type": "code",
        "colab": {
          "base_uri": "https://localhost:8080/",
          "height": 89
        },
        "outputId": "2c9a6663-a9d8-4d0d-802b-8df8b282d43c"
      },
      "source": [
        "# 张量的重要属性是形状、类型和值\n",
        "print(A.shape)\n",
        "print(A.dtype)\n",
        "print(A.numpy())"
      ],
      "execution_count": 4,
      "outputs": [
        {
          "output_type": "stream",
          "text": [
            "(2, 2)\n",
            "<dtype: 'float32'>\n",
            "[[1. 2.]\n",
            " [3. 4.]]\n"
          ],
          "name": "stdout"
        }
      ]
    },
    {
      "cell_type": "markdown",
      "metadata": {
        "id": "ymIiyuWViJ6R",
        "colab_type": "text"
      },
      "source": [
        "**Noet**: Tensorflow的大多数API函数会根据输入的值自动推断张量中元素的类型（一般默认为tf.float32），当然*dtype*也可以在声明时定义。"
      ]
    },
    {
      "cell_type": "markdown",
      "metadata": {
        "id": "aB-CkUS7hvXD",
        "colab_type": "text"
      },
      "source": [
        "#### 操作"
      ]
    },
    {
      "cell_type": "code",
      "metadata": {
        "id": "U4ZwoLOlhi4H",
        "colab_type": "code",
        "colab": {
          "base_uri": "https://localhost:8080/",
          "height": 125
        },
        "outputId": "8b7e4d56-34f2-4ef8-d97d-f0c20d310468"
      },
      "source": [
        "C = tf.add(A, B)\n",
        "print(C)\n",
        "D = tf.matmul(A, B)\n",
        "print(D)"
      ],
      "execution_count": 5,
      "outputs": [
        {
          "output_type": "stream",
          "text": [
            "tf.Tensor(\n",
            "[[ 6.  8.]\n",
            " [10. 12.]], shape=(2, 2), dtype=float32)\n",
            "tf.Tensor(\n",
            "[[19. 22.]\n",
            " [43. 50.]], shape=(2, 2), dtype=float32)\n"
          ],
          "name": "stdout"
        }
      ]
    },
    {
      "cell_type": "markdown",
      "metadata": {
        "id": "04-q9LHhixbL",
        "colab_type": "text"
      },
      "source": [
        "#### 自动求导\n",
        "\n",
        "使用$tf.GradientTape()$计算函数$y(x)=x^2$在$x=3$时的导数："
      ]
    },
    {
      "cell_type": "code",
      "metadata": {
        "id": "kbl0Lv-Ih_WA",
        "colab_type": "code",
        "colab": {
          "base_uri": "https://localhost:8080/",
          "height": 35
        },
        "outputId": "012db484-ea4a-4174-e38c-2df1b0252a68"
      },
      "source": [
        "import tensorflow as tf\n",
        "#变量，变量和张量的一个重要区别是：变量默认能够被tensorflow的自动求导机制求导\n",
        "x = tf.Variable(initial_value=3.) \n",
        "with tf.GradientTape() as tape:\n",
        "  y = tf.square(x)\n",
        "y_grad = tape.gradient(y, x)\n",
        "print([y, y_grad])"
      ],
      "execution_count": 7,
      "outputs": [
        {
          "output_type": "stream",
          "text": [
            "[<tf.Tensor: id=43, shape=(), dtype=float32, numpy=9.0>, <tf.Tensor: id=47, shape=(), dtype=float32, numpy=6.0>]\n"
          ],
          "name": "stdout"
        }
      ]
    },
    {
      "cell_type": "code",
      "metadata": {
        "id": "83zh23gvjq5b",
        "colab_type": "code",
        "colab": {
          "base_uri": "https://localhost:8080/",
          "height": 53
        },
        "outputId": "d17294b2-08d9-4495-8dc5-6bc1eb6914b3"
      },
      "source": [
        "# 使用tf.GradientTape()对多元函数求偏导数\n",
        "X = tf.constant([[1., 2.],[3., 4.]])\n",
        "y = tf.constant([[1.], [2.]])\n",
        "w = tf.Variable(initial_value=[[1.],[2.]])\n",
        "b = tf.Variable(initial_value=1.)\n",
        "with tf.GradientTape() as tape:\n",
        "  L = 0.5 * tf.reduce_sum(tf.square(tf.matmul(X, w) + b - y))\n",
        "w_grad, b_grad = tape.gradient(L, [w, b])\n",
        "print([L.numpy(), w_grad.numpy(), b_grad.numpy()])"
      ],
      "execution_count": 9,
      "outputs": [
        {
          "output_type": "stream",
          "text": [
            "[62.5, array([[35.],\n",
            "       [50.]], dtype=float32), 15.0]\n"
          ],
          "name": "stdout"
        }
      ]
    },
    {
      "cell_type": "markdown",
      "metadata": {
        "id": "FXucJEHyvQAW",
        "colab_type": "text"
      },
      "source": [
        "#### 基础示例：线性回归\n",
        "\n",
        "使用线性模型$y=ax+b$拟合房价数据，有$a$和$b$两个待求参数。"
      ]
    },
    {
      "cell_type": "code",
      "metadata": {
        "id": "B2ZAbgveluM6",
        "colab_type": "code",
        "colab": {}
      },
      "source": [
        "import numpy as np\n"
      ],
      "execution_count": 0,
      "outputs": []
    },
    {
      "cell_type": "code",
      "metadata": {
        "id": "5w0xWW6yvl69",
        "colab_type": "code",
        "colab": {}
      },
      "source": [
        "X_raw = np.array([2013, 2014, 2015, 2016, 2017], dtype=np.float32)\n",
        "y_raw = np.array([12000, 14000, 15000, 16500, 17500], dtype=np.float32)\n",
        "\n",
        "X = (X_raw - X_raw.min())/(X_raw.max() - X_raw.min())\n",
        "y = (y_raw - y_raw.min())/(y_raw.max() - y_raw.min())"
      ],
      "execution_count": 0,
      "outputs": []
    },
    {
      "cell_type": "code",
      "metadata": {
        "id": "WPZAI5YDwBiX",
        "colab_type": "code",
        "colab": {
          "base_uri": "https://localhost:8080/",
          "height": 35
        },
        "outputId": "73cd5dbe-a2db-48d3-dc07-702a24cfded0"
      },
      "source": [
        "# 使用NumPy\n",
        "a, b = 0, 0\n",
        "\n",
        "num_epoch = 10000\n",
        "learning_rate = 1e-3\n",
        "for e in range(num_epoch):\n",
        "  y_pred = a * X + b\n",
        "  grad_a, grad_b = (y_pred - y).dot(X), (y_pred - y).sum()\n",
        "\n",
        "  # 更新\n",
        "  a, b = a - learning_rate*grad_a, b - learning_rate*grad_b\n",
        "print(a, b)"
      ],
      "execution_count": 12,
      "outputs": [
        {
          "output_type": "stream",
          "text": [
            "0.9763702027872221 0.057564988311377796\n"
          ],
          "name": "stdout"
        }
      ]
    },
    {
      "cell_type": "code",
      "metadata": {
        "id": "p0r7kHyQw1rl",
        "colab_type": "code",
        "colab": {
          "base_uri": "https://localhost:8080/",
          "height": 35
        },
        "outputId": "dbb5b83f-456e-4f48-dfb1-ba0105db2e4e"
      },
      "source": [
        "# Tensorflow实现\n",
        "X = tf.constant(X)\n",
        "y = tf.constant(y)\n",
        "\n",
        "a = tf.Variable(initial_value=0.)\n",
        "b = tf.Variable(initial_value=0.)\n",
        "\n",
        "variables = [a, b]\n",
        "num_epoch = 10000\n",
        "optimizer = tf.keras.optimizers.SGD(learning_rate=1e-3)\n",
        "for e in range(num_epoch):\n",
        "  with tf.GradientTape() as tape:\n",
        "    y_pred = a * X + b\n",
        "    loss = 0.5 * tf.reduce_sum(tf.square(y_pred - y))\n",
        "  \n",
        "  grads = tape.gradient(loss, variables)\n",
        "\n",
        "  optimizer.apply_gradients(grads_and_vars=zip(grads, variables))\n",
        "\n",
        "print(a, b)"
      ],
      "execution_count": 15,
      "outputs": [
        {
          "output_type": "stream",
          "text": [
            "<tf.Variable 'Variable:0' shape=() dtype=float32, numpy=0.97637> <tf.Variable 'Variable:0' shape=() dtype=float32, numpy=0.057565063>\n"
          ],
          "name": "stdout"
        }
      ]
    },
    {
      "cell_type": "code",
      "metadata": {
        "id": "_W5wlV7mx2Ms",
        "colab_type": "code",
        "colab": {}
      },
      "source": [
        ""
      ],
      "execution_count": 0,
      "outputs": []
    }
  ]
}